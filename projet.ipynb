{
 "cells": [
  {
   "cell_type": "code",
   "execution_count": null,
   "metadata": {},
   "outputs": [],
   "source": [
    "# Importation des bibliothèques nécessaires\n",
    "import pandas as pd\n",
    "import numpy as np\n",
    "import matplotlib.pyplot as plt\n",
    "import seaborn as sns\n",
    "from sklearn.preprocessing import StandardScaler, OneHotEncoder\n",
    "from sklearn.model_selection import train_test_split\n",
    "from sklearn.ensemble import RandomForestClassifier\n",
    "from sklearn.metrics import accuracy_score, confusion_matrix, classification_report\n"
   ]
  },
  {
   "cell_type": "code",
   "execution_count": null,
   "metadata": {},
   "outputs": [],
   "source": [
    "# Charger les données\n",
    "file_path = \"sport.csv\"  \n",
    "data = pd.read_csv(file_path)\n",
    "\n",
    "# Affichage des premières lignes\n",
    "print(\"Aperçu des données :\")\n",
    "display(data.head())\n",
    "\n",
    "# Informations sur les colonnes\n",
    "print(\"\\nInformations générales :\")\n",
    "data.info()\n",
    "\n",
    "# Vérification des valeurs manquantes\n",
    "print(\"\\nValeurs manquantes :\")\n",
    "print(data.isnull().sum())\n"
   ]
  },
  {
   "cell_type": "code",
   "execution_count": null,
   "metadata": {},
   "outputs": [],
   "source": [
    "# Distribution des valeurs pour les colonnes numériques\n",
    "numerical_cols = data.select_dtypes(include=[np.number]).columns\n",
    "for col in numerical_cols:\n",
    "    plt.figure(figsize=(10, 6))\n",
    "    sns.histplot(data[col], kde=True)\n",
    "    plt.title(f\"Distribution de {col}\")\n",
    "    plt.show()\n"
   ]
  },
  {
   "cell_type": "code",
   "execution_count": null,
   "metadata": {},
   "outputs": [],
   "source": [
    "# Diagramme circulaire pour les colonnes catégoriques (si applicable)\n",
    "categorical_cols = data.select_dtypes(include=[\"object\"]).columns\n",
    "for col in categorical_cols:\n",
    "    plt.figure(figsize=(10, 6))\n",
    "    data[col].value_counts().plot.pie(autopct='%1.1f%%')\n",
    "    plt.title(f\"Répartition des catégories dans {col}\")\n",
    "    plt.ylabel(\"\")\n",
    "    plt.show()"
   ]
  },
  {
   "cell_type": "code",
   "execution_count": null,
   "metadata": {},
   "outputs": [],
   "source": [
    "# Boîtes à moustaches pour détecter les valeurs extrêmes\n",
    "for col in numerical_cols:\n",
    "    plt.figure(figsize=(10, 6))\n",
    "    sns.boxplot(data[col])\n",
    "    plt.title(f\"Boîte à moustaches pour {col}\")\n",
    "    plt.show()"
   ]
  },
  {
   "cell_type": "code",
   "execution_count": null,
   "metadata": {},
   "outputs": [],
   "source": [
    "\n",
    "# Matrice de corrélation\n",
    "plt.figure(figsize=(12, 8))\n",
    "corr_matrix = data[numerical_cols].corr()\n",
    "sns.heatmap(corr_matrix, annot=True, cmap='coolwarm', fmt=\".2f\")\n",
    "plt.title(\"Matrice de corrélation\")\n",
    "plt.show()\n"
   ]
  },
  {
   "cell_type": "code",
   "execution_count": null,
   "metadata": {},
   "outputs": [],
   "source": [
    "# Gestion des valeurs manquantes\n",
    "data = data.dropna()  # Suppression des lignes avec valeurs manquantes\n",
    "\n",
    "# Encodage des colonnes catégoriques\n",
    "encoder = OneHotEncoder()\n",
    "encoded_cats = encoder.fit_transform(data[categorical_cols]).toarray()\n",
    "encoded_cat_cols = encoder.get_feature_names_out(categorical_cols)\n",
    "\n",
    "encoded_data = pd.DataFrame(encoded_cats, columns=encoded_cat_cols)\n",
    "processed_data = pd.concat([data[numerical_cols].reset_index(drop=True), encoded_data], axis=1)\n",
    "\n",
    "# Normalisation des données numériques\n",
    "scaler = StandardScaler()\n",
    "scaled_data = scaler.fit_transform(processed_data)\n",
    "\n",
    "# Transformation finale en DataFrame\n",
    "final_data = pd.DataFrame(scaled_data, columns=processed_data.columns)\n"
   ]
  },
  {
   "cell_type": "code",
   "execution_count": null,
   "metadata": {},
   "outputs": [],
   "source": [
    "# Diviser les données en ensembles d'entraînement et de test\n",
    "X = final_data.drop(columns=[\"Weight (kg)\"])  # Remplacez \"target\" par la colonne cible\n",
    "y = data[\"Height (m)\"]  # Remplacez \"target\" par la colonne cible\n",
    "\n",
    "\n",
    "\n",
    "X_train, X_test, y_train, y_test = train_test_split(X, y, test_size=0.3, random_state=42)\n",
    "\n",
    "# Modèle RandomForest\n",
    "model = RandomForestClassifier(n_estimators=100, max_depth=10, random_state=42)\n",
    "model.fit(X_train, y_train)\n",
    "\n",
    "\n",
    "# Prédictions et évaluation\n",
    "y_pred = model.predict(X_test)\n",
    "print(\"Accuracy :\", accuracy_score(y_test, y_pred))\n",
    "print(\"\\nMatrice de confusion :\\n\", confusion_matrix(y_test, y_pred))\n",
    "print(\"\\nRapport de classification :\\n\", classification_report(y_test, y_pred))\n",
    "\n",
    "\n"
   ]
  },
  {
   "cell_type": "code",
   "execution_count": null,
   "metadata": {},
   "outputs": [],
   "source": [
    "# Implémentation du GMM (comme dans la version précédente)\n",
    "def gmm_from_scratch(X, k=3, max_iter=100, tol=1e-4):\n",
    "    # Code similaire à l'algorithme Expectation-Maximization mentionné plus tôt\n",
    "    pass\n",
    "\n",
    "# Utilisation du GMM\n",
    "clusters = gmm_from_scratch(X, k=3)\n"
   ]
  },
  {
   "cell_type": "code",
   "execution_count": null,
   "metadata": {},
   "outputs": [],
   "source": [
    "# Visualisation des clusters trouvés\n",
    "plt.figure(figsize=(10, 8))\n",
    "sns.scatterplot(x=X.iloc[:, 0], y=X.iloc[:, 1], hue=clusters)\n",
    "plt.title(\"Clusters trouvés par GMM\")\n",
    "plt.xlabel(\"Feature 1\")\n",
    "plt.ylabel(\"Feature 2\")\n",
    "plt.legend(title=\"Cluster\")\n",
    "plt.show()\n"
   ]
  }
 ],
 "metadata": {
  "kernelspec": {
   "display_name": "Python 3",
   "language": "python",
   "name": "python3"
  },
  "language_info": {
   "codemirror_mode": {
    "name": "ipython",
    "version": 3
   },
   "file_extension": ".py",
   "mimetype": "text/x-python",
   "name": "python",
   "nbconvert_exporter": "python",
   "pygments_lexer": "ipython3",
   "version": "3.12.1"
  }
 },
 "nbformat": 4,
 "nbformat_minor": 2
}
