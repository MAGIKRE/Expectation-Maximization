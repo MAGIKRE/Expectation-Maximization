{
 "cells": [
  {
   "cell_type": "code",
   "execution_count": 1,
   "metadata": {},
   "outputs": [],
   "source": [
    "import numpy as np\n",
    "import pandas as pd\n",
    "import matplotlib.pyplot as plt\n",
    "import seaborn as sns\n",
    "from sklearn.datasets import make_blobs\n",
    "from scipy.stats import multivariate_normal\n"
   ]
  },
  {
   "cell_type": "code",
   "execution_count": null,
   "metadata": {},
   "outputs": [],
   "source": [
    "# Générer un dataset synthétique de 300 points avec 3 clusters\n",
    "X, y_true = make_blobs(n_samples=300, centers=3, cluster_std=0.60, random_state=0)\n",
    "plt.scatter(X[:, 0], X[:, 1], s=50, cmap='viridis')\n",
    "plt.title(\"Jeu de données synthétique\")\n",
    "plt.show()\n"
   ]
  },
  {
   "cell_type": "code",
   "execution_count": null,
   "metadata": {},
   "outputs": [],
   "source": [
    "def initialize_parameters(X, k):\n",
    "    n, d = X.shape\n",
    "    mu = X[np.random.choice(n, k, False)]\n",
    "    cov = [np.eye(d)] * k\n",
    "    pi = np.ones(k) / k\n",
    "    return mu, cov, pi\n"
   ]
  },
  {
   "cell_type": "code",
   "execution_count": null,
   "metadata": {},
   "outputs": [],
   "source": [
    "def e_step(X, mu, cov, pi, k):\n",
    "    n = X.shape[0]\n",
    "    r = np.zeros((n, k))\n",
    "    for i in range(k):\n",
    "        r[:, i] = pi[i] * multivariate_normal(mean=mu[i], cov=cov[i]).pdf(X)\n",
    "    r = r / r.sum(axis=1, keepdims=True)\n",
    "    return r\n"
   ]
  },
  {
   "cell_type": "code",
   "execution_count": null,
   "metadata": {},
   "outputs": [],
   "source": [
    "def m_step(X, r, k):\n",
    "    n, d = X.shape\n",
    "    mu = np.zeros((k, d))\n",
    "    cov = []\n",
    "    pi = np.zeros(k)\n",
    "    for i in range(k):\n",
    "        r_i = r[:, [i]]\n",
    "        total_r_i = r_i.sum()\n",
    "        mu[i] = (X * r_i).sum(axis=0) / total_r_i\n",
    "        cov_i = (X - mu[i]).T @ np.diag(r_i.flatten()) @ (X - mu[i]) / total_r_i\n",
    "        cov.append(cov_i + 1e-6 * np.eye(d))  # Ajout d'une petite valeur pour la stabilité numérique\n",
    "        pi[i] = total_r_i / n\n",
    "    return mu, cov, pi\n"
   ]
  }
 ],
 "metadata": {
  "kernelspec": {
   "display_name": "Python 3",
   "language": "python",
   "name": "python3"
  },
  "language_info": {
   "codemirror_mode": {
    "name": "ipython",
    "version": 3
   },
   "file_extension": ".py",
   "mimetype": "text/x-python",
   "name": "python",
   "nbconvert_exporter": "python",
   "pygments_lexer": "ipython3",
   "version": "3.12.1"
  }
 },
 "nbformat": 4,
 "nbformat_minor": 2
}
